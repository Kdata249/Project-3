{
 "cells": [
  {
   "cell_type": "code",
   "execution_count": 1,
   "metadata": {},
   "outputs": [],
   "source": [
    "import polars as pl\n",
    "import pandas as pd\n",
    "import pyarrow as pa\n",
    "import sqlite3"
   ]
  },
  {
   "cell_type": "code",
   "execution_count": 2,
   "metadata": {},
   "outputs": [],
   "source": [
    "csv_path = \"Resources/heart_attack_prediction_dataset.csv\"\n",
    "heart_df = pl.read_csv(csv_path)"
   ]
  },
  {
   "cell_type": "code",
   "execution_count": 3,
   "metadata": {},
   "outputs": [
    {
     "data": {
      "text/html": [
       "<div><style>\n",
       ".dataframe > thead > tr,\n",
       ".dataframe > tbody > tr {\n",
       "  text-align: right;\n",
       "  white-space: pre-wrap;\n",
       "}\n",
       "</style>\n",
       "<small>shape: (5, 26)</small><table border=\"1\" class=\"dataframe\"><thead><tr><th>Patient ID</th><th>Age</th><th>Sex</th><th>Cholesterol</th><th>Blood Pressure</th><th>Heart Rate</th><th>Diabetes</th><th>Family History</th><th>Smoking</th><th>Obesity</th><th>Alcohol Consumption</th><th>Exercise Hours Per Week</th><th>Diet</th><th>Previous Heart Problems</th><th>Medication Use</th><th>Stress Level</th><th>Sedentary Hours Per Day</th><th>Income</th><th>BMI</th><th>Triglycerides</th><th>Physical Activity Days Per Week</th><th>Sleep Hours Per Day</th><th>Country</th><th>Continent</th><th>Hemisphere</th><th>Heart Attack Risk</th></tr><tr><td>str</td><td>i64</td><td>str</td><td>i64</td><td>str</td><td>i64</td><td>i64</td><td>i64</td><td>i64</td><td>i64</td><td>i64</td><td>f64</td><td>str</td><td>i64</td><td>i64</td><td>i64</td><td>f64</td><td>i64</td><td>f64</td><td>i64</td><td>i64</td><td>i64</td><td>str</td><td>str</td><td>str</td><td>i64</td></tr></thead><tbody><tr><td>&quot;BMW7812&quot;</td><td>67</td><td>&quot;Male&quot;</td><td>208</td><td>&quot;158/88&quot;</td><td>72</td><td>0</td><td>0</td><td>1</td><td>0</td><td>0</td><td>4.168189</td><td>&quot;Average&quot;</td><td>0</td><td>0</td><td>9</td><td>6.615001</td><td>261404</td><td>31.251233</td><td>286</td><td>0</td><td>6</td><td>&quot;Argentina&quot;</td><td>&quot;South America&quot;</td><td>&quot;Southern Hemis…</td><td>0</td></tr><tr><td>&quot;CZE1114&quot;</td><td>21</td><td>&quot;Male&quot;</td><td>389</td><td>&quot;165/93&quot;</td><td>98</td><td>1</td><td>1</td><td>1</td><td>1</td><td>1</td><td>1.813242</td><td>&quot;Unhealthy&quot;</td><td>1</td><td>0</td><td>1</td><td>4.963459</td><td>285768</td><td>27.194973</td><td>235</td><td>1</td><td>7</td><td>&quot;Canada&quot;</td><td>&quot;North America&quot;</td><td>&quot;Northern Hemis…</td><td>0</td></tr><tr><td>&quot;BNI9906&quot;</td><td>21</td><td>&quot;Female&quot;</td><td>324</td><td>&quot;174/99&quot;</td><td>72</td><td>1</td><td>0</td><td>0</td><td>0</td><td>0</td><td>2.078353</td><td>&quot;Healthy&quot;</td><td>1</td><td>1</td><td>9</td><td>9.463426</td><td>235282</td><td>28.176571</td><td>587</td><td>4</td><td>4</td><td>&quot;France&quot;</td><td>&quot;Europe&quot;</td><td>&quot;Northern Hemis…</td><td>0</td></tr><tr><td>&quot;JLN3497&quot;</td><td>84</td><td>&quot;Male&quot;</td><td>383</td><td>&quot;163/100&quot;</td><td>73</td><td>1</td><td>1</td><td>1</td><td>0</td><td>1</td><td>9.82813</td><td>&quot;Average&quot;</td><td>1</td><td>0</td><td>9</td><td>7.648981</td><td>125640</td><td>36.464704</td><td>378</td><td>3</td><td>4</td><td>&quot;Canada&quot;</td><td>&quot;North America&quot;</td><td>&quot;Northern Hemis…</td><td>0</td></tr><tr><td>&quot;GFO8847&quot;</td><td>66</td><td>&quot;Male&quot;</td><td>318</td><td>&quot;91/88&quot;</td><td>93</td><td>1</td><td>1</td><td>1</td><td>1</td><td>0</td><td>5.804299</td><td>&quot;Unhealthy&quot;</td><td>1</td><td>0</td><td>6</td><td>1.514821</td><td>160555</td><td>21.809144</td><td>231</td><td>1</td><td>5</td><td>&quot;Thailand&quot;</td><td>&quot;Asia&quot;</td><td>&quot;Northern Hemis…</td><td>0</td></tr></tbody></table></div>"
      ],
      "text/plain": [
       "shape: (5, 26)\n",
       "┌────────────┬─────┬────────┬─────────────┬───┬───────────┬───────────┬────────────┬────────┐\n",
       "│ Patient ID ┆ Age ┆ Sex    ┆ Cholesterol ┆ … ┆ Country   ┆ Continent ┆ Hemisphere ┆ Heart  │\n",
       "│ ---        ┆ --- ┆ ---    ┆ ---         ┆   ┆ ---       ┆ ---       ┆ ---        ┆ Attack │\n",
       "│ str        ┆ i64 ┆ str    ┆ i64         ┆   ┆ str       ┆ str       ┆ str        ┆ Risk   │\n",
       "│            ┆     ┆        ┆             ┆   ┆           ┆           ┆            ┆ ---    │\n",
       "│            ┆     ┆        ┆             ┆   ┆           ┆           ┆            ┆ i64    │\n",
       "╞════════════╪═════╪════════╪═════════════╪═══╪═══════════╪═══════════╪════════════╪════════╡\n",
       "│ BMW7812    ┆ 67  ┆ Male   ┆ 208         ┆ … ┆ Argentina ┆ South     ┆ Southern   ┆ 0      │\n",
       "│            ┆     ┆        ┆             ┆   ┆           ┆ America   ┆ Hemisphere ┆        │\n",
       "│ CZE1114    ┆ 21  ┆ Male   ┆ 389         ┆ … ┆ Canada    ┆ North     ┆ Northern   ┆ 0      │\n",
       "│            ┆     ┆        ┆             ┆   ┆           ┆ America   ┆ Hemisphere ┆        │\n",
       "│ BNI9906    ┆ 21  ┆ Female ┆ 324         ┆ … ┆ France    ┆ Europe    ┆ Northern   ┆ 0      │\n",
       "│            ┆     ┆        ┆             ┆   ┆           ┆           ┆ Hemisphere ┆        │\n",
       "│ JLN3497    ┆ 84  ┆ Male   ┆ 383         ┆ … ┆ Canada    ┆ North     ┆ Northern   ┆ 0      │\n",
       "│            ┆     ┆        ┆             ┆   ┆           ┆ America   ┆ Hemisphere ┆        │\n",
       "│ GFO8847    ┆ 66  ┆ Male   ┆ 318         ┆ … ┆ Thailand  ┆ Asia      ┆ Northern   ┆ 0      │\n",
       "│            ┆     ┆        ┆             ┆   ┆           ┆           ┆ Hemisphere ┆        │\n",
       "└────────────┴─────┴────────┴─────────────┴───┴───────────┴───────────┴────────────┴────────┘"
      ]
     },
     "execution_count": 3,
     "metadata": {},
     "output_type": "execute_result"
    }
   ],
   "source": [
    "heart_df.head()"
   ]
  },
  {
   "cell_type": "code",
   "execution_count": 4,
   "metadata": {},
   "outputs": [],
   "source": [
    "heart_df = heart_df.drop(['Obesity', 'Exercise Hours Per Week', 'Diet', 'Medication Use', 'Sedentary Hours Per Day', 'Hemisphere', 'Heart Attack Risk'])"
   ]
  },
  {
   "cell_type": "code",
   "execution_count": 5,
   "metadata": {},
   "outputs": [],
   "source": [
    "heart_df = heart_df[['Patient ID', 'Age', 'Sex', 'Income', 'Country', 'Continent', 'BMI', 'Blood Pressure', 'Heart Rate', 'Cholesterol', 'Triglycerides', 'Diabetes', 'Family History', 'Previous Heart Problems', 'Alcohol Consumption', 'Smoking', 'Stress Level', 'Sleep Hours Per Day', 'Physical Activity Days Per Week']]"
   ]
  },
  {
   "cell_type": "code",
   "execution_count": 6,
   "metadata": {},
   "outputs": [
    {
     "data": {
      "text/html": [
       "<div><style>\n",
       ".dataframe > thead > tr,\n",
       ".dataframe > tbody > tr {\n",
       "  text-align: right;\n",
       "  white-space: pre-wrap;\n",
       "}\n",
       "</style>\n",
       "<small>shape: (5, 19)</small><table border=\"1\" class=\"dataframe\"><thead><tr><th>Patient ID</th><th>Age</th><th>Sex</th><th>Income</th><th>Country</th><th>Continent</th><th>BMI</th><th>Blood Pressure</th><th>Heart Rate</th><th>Cholesterol</th><th>Triglycerides</th><th>Diabetes</th><th>Family History</th><th>Previous Heart Problems</th><th>Alcohol Consumption</th><th>Smoking</th><th>Stress Level</th><th>Sleep Hours Per Day</th><th>Physical Activity Days Per Week</th></tr><tr><td>str</td><td>i64</td><td>str</td><td>i64</td><td>str</td><td>str</td><td>f64</td><td>str</td><td>i64</td><td>i64</td><td>i64</td><td>i64</td><td>i64</td><td>i64</td><td>i64</td><td>i64</td><td>i64</td><td>i64</td><td>i64</td></tr></thead><tbody><tr><td>&quot;BMW7812&quot;</td><td>67</td><td>&quot;Male&quot;</td><td>261404</td><td>&quot;Argentina&quot;</td><td>&quot;South America&quot;</td><td>31.251233</td><td>&quot;158/88&quot;</td><td>72</td><td>208</td><td>286</td><td>0</td><td>0</td><td>0</td><td>0</td><td>1</td><td>9</td><td>6</td><td>0</td></tr><tr><td>&quot;CZE1114&quot;</td><td>21</td><td>&quot;Male&quot;</td><td>285768</td><td>&quot;Canada&quot;</td><td>&quot;North America&quot;</td><td>27.194973</td><td>&quot;165/93&quot;</td><td>98</td><td>389</td><td>235</td><td>1</td><td>1</td><td>1</td><td>1</td><td>1</td><td>1</td><td>7</td><td>1</td></tr><tr><td>&quot;BNI9906&quot;</td><td>21</td><td>&quot;Female&quot;</td><td>235282</td><td>&quot;France&quot;</td><td>&quot;Europe&quot;</td><td>28.176571</td><td>&quot;174/99&quot;</td><td>72</td><td>324</td><td>587</td><td>1</td><td>0</td><td>1</td><td>0</td><td>0</td><td>9</td><td>4</td><td>4</td></tr><tr><td>&quot;JLN3497&quot;</td><td>84</td><td>&quot;Male&quot;</td><td>125640</td><td>&quot;Canada&quot;</td><td>&quot;North America&quot;</td><td>36.464704</td><td>&quot;163/100&quot;</td><td>73</td><td>383</td><td>378</td><td>1</td><td>1</td><td>1</td><td>1</td><td>1</td><td>9</td><td>4</td><td>3</td></tr><tr><td>&quot;GFO8847&quot;</td><td>66</td><td>&quot;Male&quot;</td><td>160555</td><td>&quot;Thailand&quot;</td><td>&quot;Asia&quot;</td><td>21.809144</td><td>&quot;91/88&quot;</td><td>93</td><td>318</td><td>231</td><td>1</td><td>1</td><td>1</td><td>0</td><td>1</td><td>6</td><td>5</td><td>1</td></tr></tbody></table></div>"
      ],
      "text/plain": [
       "shape: (5, 19)\n",
       "┌────────────┬─────┬────────┬────────┬───┬─────────┬──────────────┬────────────────┬───────────────┐\n",
       "│ Patient ID ┆ Age ┆ Sex    ┆ Income ┆ … ┆ Smoking ┆ Stress Level ┆ Sleep Hours    ┆ Physical      │\n",
       "│ ---        ┆ --- ┆ ---    ┆ ---    ┆   ┆ ---     ┆ ---          ┆ Per Day        ┆ Activity Days │\n",
       "│ str        ┆ i64 ┆ str    ┆ i64    ┆   ┆ i64     ┆ i64          ┆ ---            ┆ Per Week      │\n",
       "│            ┆     ┆        ┆        ┆   ┆         ┆              ┆ i64            ┆ ---           │\n",
       "│            ┆     ┆        ┆        ┆   ┆         ┆              ┆                ┆ i64           │\n",
       "╞════════════╪═════╪════════╪════════╪═══╪═════════╪══════════════╪════════════════╪═══════════════╡\n",
       "│ BMW7812    ┆ 67  ┆ Male   ┆ 261404 ┆ … ┆ 1       ┆ 9            ┆ 6              ┆ 0             │\n",
       "│ CZE1114    ┆ 21  ┆ Male   ┆ 285768 ┆ … ┆ 1       ┆ 1            ┆ 7              ┆ 1             │\n",
       "│ BNI9906    ┆ 21  ┆ Female ┆ 235282 ┆ … ┆ 0       ┆ 9            ┆ 4              ┆ 4             │\n",
       "│ JLN3497    ┆ 84  ┆ Male   ┆ 125640 ┆ … ┆ 1       ┆ 9            ┆ 4              ┆ 3             │\n",
       "│ GFO8847    ┆ 66  ┆ Male   ┆ 160555 ┆ … ┆ 1       ┆ 6            ┆ 5              ┆ 1             │\n",
       "└────────────┴─────┴────────┴────────┴───┴─────────┴──────────────┴────────────────┴───────────────┘"
      ]
     },
     "execution_count": 6,
     "metadata": {},
     "output_type": "execute_result"
    }
   ],
   "source": [
    "heart_df.head()"
   ]
  },
  {
   "cell_type": "code",
   "execution_count": 7,
   "metadata": {},
   "outputs": [],
   "source": [
    "heart_df = heart_df.with_columns(pl.col('Diabetes').cast(pl.Boolean).alias('Diabetes'), \n",
    "           pl.col('Family History').cast(pl.Boolean).alias('Family History'),\n",
    "           pl.col('Previous Heart Problems').cast(pl.Boolean).alias('Previous Heart Problems'),\n",
    "           pl.col('Alcohol Consumption').cast(pl.Boolean).alias('Alcohol Consumption'),\n",
    "           pl.col('Smoking').cast(pl.Boolean).alias('Smoking'),\n",
    "           pl.col('BMI').cast(pl.Decimal(scale=2)).alias('BMI'),\n",
    "           pl.col(\"Income\").map_elements(lambda x: \"${:,.0f}\".format(x), return_dtype=pl.Object)\n",
    ")"
   ]
  },
  {
   "cell_type": "code",
   "execution_count": 8,
   "metadata": {},
   "outputs": [],
   "source": [
    "heart_df = heart_df.rename({'Patient ID': 'Patient_ID', 'Blood Pressure': 'Blood_Pressure', 'Heart Rate': 'Heart_Rate', 'Family History': 'Family_History',\n",
    "                'Previous Heart Problems': 'Previous_Heart_Problems', 'Alcohol Consumption': 'Alcohol_Consumption', 'Stress Level': 'Stress_Level', 'Sleep Hours Per Day': 'Sleep_Hours',\n",
    "                'Physical Activity Days Per Week': 'Active_Days'})"
   ]
  },
  {
   "cell_type": "code",
   "execution_count": 9,
   "metadata": {},
   "outputs": [
    {
     "data": {
      "text/html": [
       "<div><style>\n",
       ".dataframe > thead > tr,\n",
       ".dataframe > tbody > tr {\n",
       "  text-align: right;\n",
       "  white-space: pre-wrap;\n",
       "}\n",
       "</style>\n",
       "<small>shape: (5, 19)</small><table border=\"1\" class=\"dataframe\"><thead><tr><th>Patient_ID</th><th>Age</th><th>Sex</th><th>Income</th><th>Country</th><th>Continent</th><th>BMI</th><th>Blood_Pressure</th><th>Heart_Rate</th><th>Cholesterol</th><th>Triglycerides</th><th>Diabetes</th><th>Family_History</th><th>Previous_Heart_Problems</th><th>Alcohol_Consumption</th><th>Smoking</th><th>Stress_Level</th><th>Sleep_Hours</th><th>Active_Days</th></tr><tr><td>str</td><td>i64</td><td>str</td><td>object</td><td>str</td><td>str</td><td>f64</td><td>str</td><td>i64</td><td>i64</td><td>i64</td><td>bool</td><td>bool</td><td>bool</td><td>bool</td><td>bool</td><td>i64</td><td>i64</td><td>i64</td></tr></thead><tbody><tr><td>&quot;BMW7812&quot;</td><td>67</td><td>&quot;Male&quot;</td><td>$261,404</td><td>&quot;Argentina&quot;</td><td>&quot;South America&quot;</td><td>31.25</td><td>&quot;158/88&quot;</td><td>72</td><td>208</td><td>286</td><td>false</td><td>false</td><td>false</td><td>false</td><td>true</td><td>9</td><td>6</td><td>0</td></tr><tr><td>&quot;CZE1114&quot;</td><td>21</td><td>&quot;Male&quot;</td><td>$285,768</td><td>&quot;Canada&quot;</td><td>&quot;North America&quot;</td><td>27.19</td><td>&quot;165/93&quot;</td><td>98</td><td>389</td><td>235</td><td>true</td><td>true</td><td>true</td><td>true</td><td>true</td><td>1</td><td>7</td><td>1</td></tr><tr><td>&quot;BNI9906&quot;</td><td>21</td><td>&quot;Female&quot;</td><td>$235,282</td><td>&quot;France&quot;</td><td>&quot;Europe&quot;</td><td>28.17</td><td>&quot;174/99&quot;</td><td>72</td><td>324</td><td>587</td><td>true</td><td>false</td><td>true</td><td>false</td><td>false</td><td>9</td><td>4</td><td>4</td></tr><tr><td>&quot;JLN3497&quot;</td><td>84</td><td>&quot;Male&quot;</td><td>$125,640</td><td>&quot;Canada&quot;</td><td>&quot;North America&quot;</td><td>36.46</td><td>&quot;163/100&quot;</td><td>73</td><td>383</td><td>378</td><td>true</td><td>true</td><td>true</td><td>true</td><td>true</td><td>9</td><td>4</td><td>3</td></tr><tr><td>&quot;GFO8847&quot;</td><td>66</td><td>&quot;Male&quot;</td><td>$160,555</td><td>&quot;Thailand&quot;</td><td>&quot;Asia&quot;</td><td>21.8</td><td>&quot;91/88&quot;</td><td>93</td><td>318</td><td>231</td><td>true</td><td>true</td><td>true</td><td>false</td><td>true</td><td>6</td><td>5</td><td>1</td></tr></tbody></table></div>"
      ],
      "text/plain": [
       "shape: (5, 19)\n",
       "┌────────────┬─────┬────────┬──────────┬───┬─────────┬──────────────┬─────────────┬─────────────┐\n",
       "│ Patient_ID ┆ Age ┆ Sex    ┆ Income   ┆ … ┆ Smoking ┆ Stress_Level ┆ Sleep_Hours ┆ Active_Days │\n",
       "│ ---        ┆ --- ┆ ---    ┆ ---      ┆   ┆ ---     ┆ ---          ┆ ---         ┆ ---         │\n",
       "│ str        ┆ i64 ┆ str    ┆ object   ┆   ┆ bool    ┆ i64          ┆ i64         ┆ i64         │\n",
       "╞════════════╪═════╪════════╪══════════╪═══╪═════════╪══════════════╪═════════════╪═════════════╡\n",
       "│ BMW7812    ┆ 67  ┆ Male   ┆ $261,404 ┆ … ┆ true    ┆ 9            ┆ 6           ┆ 0           │\n",
       "│ CZE1114    ┆ 21  ┆ Male   ┆ $285,768 ┆ … ┆ true    ┆ 1            ┆ 7           ┆ 1           │\n",
       "│ BNI9906    ┆ 21  ┆ Female ┆ $235,282 ┆ … ┆ false   ┆ 9            ┆ 4           ┆ 4           │\n",
       "│ JLN3497    ┆ 84  ┆ Male   ┆ $125,640 ┆ … ┆ true    ┆ 9            ┆ 4           ┆ 3           │\n",
       "│ GFO8847    ┆ 66  ┆ Male   ┆ $160,555 ┆ … ┆ true    ┆ 6            ┆ 5           ┆ 1           │\n",
       "└────────────┴─────┴────────┴──────────┴───┴─────────┴──────────────┴─────────────┴─────────────┘"
      ]
     },
     "execution_count": 9,
     "metadata": {},
     "output_type": "execute_result"
    }
   ],
   "source": [
    "heart_df.head()"
   ]
  },
  {
   "cell_type": "code",
   "execution_count": 10,
   "metadata": {},
   "outputs": [],
   "source": [
    "#Create DataFrames for SQL tables\n",
    "Patient_Info = heart_df[['Patient_ID', 'Age', 'Sex', 'Income', 'Country', 'Continent']]\n",
    "Health_Information = heart_df[['Patient_ID', 'Cholesterol', 'Blood_Pressure', 'Heart_Rate', 'BMI', 'Triglycerides']]\n",
    "Risk_Factors = heart_df[['Patient_ID', 'Smoking', 'Alcohol_Consumption', 'Family_History', 'Diabetes', 'Stress_Level', 'Previous_Heart_Problems']]\n",
    "Lifestyle_Factors = heart_df[['Patient_ID', 'Active_Days', 'Sleep_Hours', 'Income', 'Smoking', 'Alcohol_Consumption']]"
   ]
  },
  {
   "cell_type": "code",
   "execution_count": 14,
   "metadata": {},
   "outputs": [],
   "source": [
    "Patient_Info1 = heart_df.select(pl.col('Patient_ID'))\n"
   ]
  },
  {
   "cell_type": "code",
   "execution_count": 15,
   "metadata": {},
   "outputs": [],
   "source": [
    "pandas = Patient_Info1.to_pandas()"
   ]
  },
  {
   "cell_type": "code",
   "execution_count": 16,
   "metadata": {},
   "outputs": [
    {
     "data": {
      "text/html": [
       "<div>\n",
       "<style scoped>\n",
       "    .dataframe tbody tr th:only-of-type {\n",
       "        vertical-align: middle;\n",
       "    }\n",
       "\n",
       "    .dataframe tbody tr th {\n",
       "        vertical-align: top;\n",
       "    }\n",
       "\n",
       "    .dataframe thead th {\n",
       "        text-align: right;\n",
       "    }\n",
       "</style>\n",
       "<table border=\"1\" class=\"dataframe\">\n",
       "  <thead>\n",
       "    <tr style=\"text-align: right;\">\n",
       "      <th></th>\n",
       "      <th>Patient_ID</th>\n",
       "    </tr>\n",
       "  </thead>\n",
       "  <tbody>\n",
       "    <tr>\n",
       "      <th>0</th>\n",
       "      <td>BMW7812</td>\n",
       "    </tr>\n",
       "    <tr>\n",
       "      <th>1</th>\n",
       "      <td>CZE1114</td>\n",
       "    </tr>\n",
       "    <tr>\n",
       "      <th>2</th>\n",
       "      <td>BNI9906</td>\n",
       "    </tr>\n",
       "    <tr>\n",
       "      <th>3</th>\n",
       "      <td>JLN3497</td>\n",
       "    </tr>\n",
       "    <tr>\n",
       "      <th>4</th>\n",
       "      <td>GFO8847</td>\n",
       "    </tr>\n",
       "    <tr>\n",
       "      <th>...</th>\n",
       "      <td>...</td>\n",
       "    </tr>\n",
       "    <tr>\n",
       "      <th>8758</th>\n",
       "      <td>MSV9918</td>\n",
       "    </tr>\n",
       "    <tr>\n",
       "      <th>8759</th>\n",
       "      <td>QSV6764</td>\n",
       "    </tr>\n",
       "    <tr>\n",
       "      <th>8760</th>\n",
       "      <td>XKA5925</td>\n",
       "    </tr>\n",
       "    <tr>\n",
       "      <th>8761</th>\n",
       "      <td>EPE6801</td>\n",
       "    </tr>\n",
       "    <tr>\n",
       "      <th>8762</th>\n",
       "      <td>ZWN9666</td>\n",
       "    </tr>\n",
       "  </tbody>\n",
       "</table>\n",
       "<p>8763 rows × 1 columns</p>\n",
       "</div>"
      ],
      "text/plain": [
       "     Patient_ID\n",
       "0       BMW7812\n",
       "1       CZE1114\n",
       "2       BNI9906\n",
       "3       JLN3497\n",
       "4       GFO8847\n",
       "...         ...\n",
       "8758    MSV9918\n",
       "8759    QSV6764\n",
       "8760    XKA5925\n",
       "8761    EPE6801\n",
       "8762    ZWN9666\n",
       "\n",
       "[8763 rows x 1 columns]"
      ]
     },
     "execution_count": 16,
     "metadata": {},
     "output_type": "execute_result"
    }
   ],
   "source": [
    "pandas"
   ]
  },
  {
   "cell_type": "code",
   "execution_count": 13,
   "metadata": {},
   "outputs": [
    {
     "ename": "ComputeError",
     "evalue": "csv writer does not support object dtype",
     "output_type": "error",
     "traceback": [
      "\u001b[1;31m---------------------------------------------------------------------------\u001b[0m",
      "\u001b[1;31mComputeError\u001b[0m                              Traceback (most recent call last)",
      "\u001b[1;32m~\\AppData\\Local\\Temp\\ipykernel_19168\\2602546137.py\u001b[0m in \u001b[0;36m?\u001b[1;34m()\u001b[0m\n\u001b[1;32m----> 1\u001b[1;33m \u001b[0mPatient_Info\u001b[0m\u001b[1;33m.\u001b[0m\u001b[0mwrite_csv\u001b[0m\u001b[1;33m(\u001b[0m\u001b[1;34m\"test.csv\"\u001b[0m\u001b[1;33m)\u001b[0m\u001b[1;33m\u001b[0m\u001b[1;33m\u001b[0m\u001b[0m\n\u001b[0m",
      "\u001b[1;32mc:\\Users\\kklos\\anaconda3\\envs\\dev\\lib\\site-packages\\polars\\utils\\deprecation.py\u001b[0m in \u001b[0;36m?\u001b[1;34m(*args, **kwargs)\u001b[0m\n\u001b[0;32m    129\u001b[0m         \u001b[1;32mdef\u001b[0m \u001b[0mwrapper\u001b[0m\u001b[1;33m(\u001b[0m\u001b[1;33m*\u001b[0m\u001b[0margs\u001b[0m\u001b[1;33m:\u001b[0m \u001b[0mP\u001b[0m\u001b[1;33m.\u001b[0m\u001b[0margs\u001b[0m\u001b[1;33m,\u001b[0m \u001b[1;33m**\u001b[0m\u001b[0mkwargs\u001b[0m\u001b[1;33m:\u001b[0m \u001b[0mP\u001b[0m\u001b[1;33m.\u001b[0m\u001b[0mkwargs\u001b[0m\u001b[1;33m)\u001b[0m \u001b[1;33m->\u001b[0m \u001b[0mT\u001b[0m\u001b[1;33m:\u001b[0m\u001b[1;33m\u001b[0m\u001b[1;33m\u001b[0m\u001b[0m\n\u001b[0;32m    130\u001b[0m             _rename_keyword_argument(\n\u001b[0;32m    131\u001b[0m                 \u001b[0mold_name\u001b[0m\u001b[1;33m,\u001b[0m \u001b[0mnew_name\u001b[0m\u001b[1;33m,\u001b[0m \u001b[0mkwargs\u001b[0m\u001b[1;33m,\u001b[0m \u001b[0mfunction\u001b[0m\u001b[1;33m.\u001b[0m\u001b[0m__name__\u001b[0m\u001b[1;33m,\u001b[0m \u001b[0mversion\u001b[0m\u001b[1;33m\u001b[0m\u001b[1;33m\u001b[0m\u001b[0m\n\u001b[0;32m    132\u001b[0m             )\n\u001b[1;32m--> 133\u001b[1;33m             \u001b[1;32mreturn\u001b[0m \u001b[0mfunction\u001b[0m\u001b[1;33m(\u001b[0m\u001b[1;33m*\u001b[0m\u001b[0margs\u001b[0m\u001b[1;33m,\u001b[0m \u001b[1;33m**\u001b[0m\u001b[0mkwargs\u001b[0m\u001b[1;33m)\u001b[0m\u001b[1;33m\u001b[0m\u001b[1;33m\u001b[0m\u001b[0m\n\u001b[0m",
      "\u001b[1;32mc:\\Users\\kklos\\anaconda3\\envs\\dev\\lib\\site-packages\\polars\\utils\\deprecation.py\u001b[0m in \u001b[0;36m?\u001b[1;34m(*args, **kwargs)\u001b[0m\n\u001b[0;32m    129\u001b[0m         \u001b[1;32mdef\u001b[0m \u001b[0mwrapper\u001b[0m\u001b[1;33m(\u001b[0m\u001b[1;33m*\u001b[0m\u001b[0margs\u001b[0m\u001b[1;33m:\u001b[0m \u001b[0mP\u001b[0m\u001b[1;33m.\u001b[0m\u001b[0margs\u001b[0m\u001b[1;33m,\u001b[0m \u001b[1;33m**\u001b[0m\u001b[0mkwargs\u001b[0m\u001b[1;33m:\u001b[0m \u001b[0mP\u001b[0m\u001b[1;33m.\u001b[0m\u001b[0mkwargs\u001b[0m\u001b[1;33m)\u001b[0m \u001b[1;33m->\u001b[0m \u001b[0mT\u001b[0m\u001b[1;33m:\u001b[0m\u001b[1;33m\u001b[0m\u001b[1;33m\u001b[0m\u001b[0m\n\u001b[0;32m    130\u001b[0m             _rename_keyword_argument(\n\u001b[0;32m    131\u001b[0m                 \u001b[0mold_name\u001b[0m\u001b[1;33m,\u001b[0m \u001b[0mnew_name\u001b[0m\u001b[1;33m,\u001b[0m \u001b[0mkwargs\u001b[0m\u001b[1;33m,\u001b[0m \u001b[0mfunction\u001b[0m\u001b[1;33m.\u001b[0m\u001b[0m__name__\u001b[0m\u001b[1;33m,\u001b[0m \u001b[0mversion\u001b[0m\u001b[1;33m\u001b[0m\u001b[1;33m\u001b[0m\u001b[0m\n\u001b[0;32m    132\u001b[0m             )\n\u001b[1;32m--> 133\u001b[1;33m             \u001b[1;32mreturn\u001b[0m \u001b[0mfunction\u001b[0m\u001b[1;33m(\u001b[0m\u001b[1;33m*\u001b[0m\u001b[0margs\u001b[0m\u001b[1;33m,\u001b[0m \u001b[1;33m**\u001b[0m\u001b[0mkwargs\u001b[0m\u001b[1;33m)\u001b[0m\u001b[1;33m\u001b[0m\u001b[1;33m\u001b[0m\u001b[0m\n\u001b[0m",
      "\u001b[1;32mc:\\Users\\kklos\\anaconda3\\envs\\dev\\lib\\site-packages\\polars\\dataframe\\frame.py\u001b[0m in \u001b[0;36m?\u001b[1;34m(self, file, include_bom, include_header, separator, line_terminator, quote_char, batch_size, datetime_format, date_format, time_format, float_precision, null_value, quote_style)\u001b[0m\n\u001b[0;32m   2675\u001b[0m             \u001b[0mfile\u001b[0m \u001b[1;33m=\u001b[0m \u001b[0mnormalize_filepath\u001b[0m\u001b[1;33m(\u001b[0m\u001b[0mfile\u001b[0m\u001b[1;33m)\u001b[0m\u001b[1;33m\u001b[0m\u001b[1;33m\u001b[0m\u001b[0m\n\u001b[0;32m   2676\u001b[0m         \u001b[1;32melif\u001b[0m \u001b[0misinstance\u001b[0m\u001b[1;33m(\u001b[0m\u001b[0mfile\u001b[0m\u001b[1;33m,\u001b[0m \u001b[0mTextIOWrapper\u001b[0m\u001b[1;33m)\u001b[0m\u001b[1;33m:\u001b[0m\u001b[1;33m\u001b[0m\u001b[1;33m\u001b[0m\u001b[0m\n\u001b[0;32m   2677\u001b[0m             \u001b[0mfile\u001b[0m \u001b[1;33m=\u001b[0m \u001b[0mcast\u001b[0m\u001b[1;33m(\u001b[0m\u001b[0mTextIOWrapper\u001b[0m\u001b[1;33m,\u001b[0m \u001b[0mfile\u001b[0m\u001b[1;33m.\u001b[0m\u001b[0mbuffer\u001b[0m\u001b[1;33m)\u001b[0m\u001b[1;33m\u001b[0m\u001b[1;33m\u001b[0m\u001b[0m\n\u001b[0;32m   2678\u001b[0m \u001b[1;33m\u001b[0m\u001b[0m\n\u001b[1;32m-> 2679\u001b[1;33m         self._df.write_csv(\n\u001b[0m\u001b[0;32m   2680\u001b[0m             \u001b[0mfile\u001b[0m\u001b[1;33m,\u001b[0m\u001b[1;33m\u001b[0m\u001b[1;33m\u001b[0m\u001b[0m\n\u001b[0;32m   2681\u001b[0m             \u001b[0minclude_bom\u001b[0m\u001b[1;33m,\u001b[0m\u001b[1;33m\u001b[0m\u001b[1;33m\u001b[0m\u001b[0m\n\u001b[0;32m   2682\u001b[0m             \u001b[0minclude_header\u001b[0m\u001b[1;33m,\u001b[0m\u001b[1;33m\u001b[0m\u001b[1;33m\u001b[0m\u001b[0m\n",
      "\u001b[1;31mComputeError\u001b[0m: csv writer does not support object dtype"
     ]
    }
   ],
   "source": [
    "Patient_Info.write_csv(\"test.csv\")"
   ]
  },
  {
   "cell_type": "code",
   "execution_count": 11,
   "metadata": {},
   "outputs": [
    {
     "ename": "PanicException",
     "evalue": "not implemented",
     "output_type": "error",
     "traceback": [
      "\u001b[1;31m---------------------------------------------------------------------------\u001b[0m",
      "\u001b[1;31mPanicException\u001b[0m                            Traceback (most recent call last)",
      "\u001b[1;32m~\\AppData\\Local\\Temp\\ipykernel_19168\\3959528809.py\u001b[0m in \u001b[0;36m?\u001b[1;34m()\u001b[0m\n\u001b[1;32m----> 1\u001b[1;33m \u001b[0mPatient_df\u001b[0m \u001b[1;33m=\u001b[0m \u001b[0mPatient_Info\u001b[0m\u001b[1;33m.\u001b[0m\u001b[0mto_pandas\u001b[0m\u001b[1;33m(\u001b[0m\u001b[1;33m)\u001b[0m\u001b[1;33m\u001b[0m\u001b[1;33m\u001b[0m\u001b[0m\n\u001b[0m\u001b[0;32m      2\u001b[0m \u001b[0mHealth_df\u001b[0m \u001b[1;33m=\u001b[0m \u001b[0mHealth_Information\u001b[0m\u001b[1;33m.\u001b[0m\u001b[0mto_pandas\u001b[0m\u001b[1;33m(\u001b[0m\u001b[1;33m)\u001b[0m\u001b[1;33m\u001b[0m\u001b[1;33m\u001b[0m\u001b[0m\n\u001b[0;32m      3\u001b[0m \u001b[0mRisk_df\u001b[0m \u001b[1;33m=\u001b[0m \u001b[0mRisk_Factors\u001b[0m\u001b[1;33m.\u001b[0m\u001b[0mto_pandas\u001b[0m\u001b[1;33m(\u001b[0m\u001b[1;33m)\u001b[0m\u001b[1;33m\u001b[0m\u001b[1;33m\u001b[0m\u001b[0m\n\u001b[0;32m      4\u001b[0m \u001b[0mLifestyle_df\u001b[0m \u001b[1;33m=\u001b[0m \u001b[0mLifestyle_Factors\u001b[0m\u001b[1;33m.\u001b[0m\u001b[0mto_pandas\u001b[0m\u001b[1;33m(\u001b[0m\u001b[1;33m)\u001b[0m\u001b[1;33m\u001b[0m\u001b[1;33m\u001b[0m\u001b[0m\n",
      "\u001b[1;32mc:\\Users\\kklos\\anaconda3\\envs\\dev\\lib\\site-packages\\polars\\dataframe\\frame.py\u001b[0m in \u001b[0;36m?\u001b[1;34m(self, use_pyarrow_extension_array, *args, **kwargs)\u001b[0m\n\u001b[0;32m   2285\u001b[0m                     \u001b[1;32mraise\u001b[0m \u001b[0mModuleUpgradeRequired\u001b[0m\u001b[1;33m(\u001b[0m\u001b[0mmsg\u001b[0m\u001b[1;33m)\u001b[0m\u001b[1;33m\u001b[0m\u001b[1;33m\u001b[0m\u001b[0m\n\u001b[0;32m   2286\u001b[0m                 \u001b[1;32melse\u001b[0m\u001b[1;33m:\u001b[0m\u001b[1;33m\u001b[0m\u001b[1;33m\u001b[0m\u001b[0m\n\u001b[0;32m   2287\u001b[0m                     \u001b[1;32mraise\u001b[0m \u001b[0mModuleNotFoundError\u001b[0m\u001b[1;33m(\u001b[0m\u001b[0mmsg\u001b[0m\u001b[1;33m)\u001b[0m\u001b[1;33m\u001b[0m\u001b[1;33m\u001b[0m\u001b[0m\n\u001b[0;32m   2288\u001b[0m \u001b[1;33m\u001b[0m\u001b[0m\n\u001b[1;32m-> 2289\u001b[1;33m         \u001b[0mrecord_batches\u001b[0m \u001b[1;33m=\u001b[0m \u001b[0mself\u001b[0m\u001b[1;33m.\u001b[0m\u001b[0m_df\u001b[0m\u001b[1;33m.\u001b[0m\u001b[0mto_pandas\u001b[0m\u001b[1;33m(\u001b[0m\u001b[1;33m)\u001b[0m\u001b[1;33m\u001b[0m\u001b[1;33m\u001b[0m\u001b[0m\n\u001b[0m\u001b[0;32m   2290\u001b[0m         \u001b[0mtbl\u001b[0m \u001b[1;33m=\u001b[0m \u001b[0mpa\u001b[0m\u001b[1;33m.\u001b[0m\u001b[0mTable\u001b[0m\u001b[1;33m.\u001b[0m\u001b[0mfrom_batches\u001b[0m\u001b[1;33m(\u001b[0m\u001b[0mrecord_batches\u001b[0m\u001b[1;33m)\u001b[0m\u001b[1;33m\u001b[0m\u001b[1;33m\u001b[0m\u001b[0m\n\u001b[0;32m   2291\u001b[0m         \u001b[1;32mif\u001b[0m \u001b[0muse_pyarrow_extension_array\u001b[0m\u001b[1;33m:\u001b[0m\u001b[1;33m\u001b[0m\u001b[1;33m\u001b[0m\u001b[0m\n\u001b[0;32m   2292\u001b[0m             \u001b[1;32mwith\u001b[0m \u001b[0mwarnings\u001b[0m\u001b[1;33m.\u001b[0m\u001b[0mcatch_warnings\u001b[0m\u001b[1;33m(\u001b[0m\u001b[1;33m)\u001b[0m\u001b[1;33m:\u001b[0m\u001b[1;33m\u001b[0m\u001b[1;33m\u001b[0m\u001b[0m\n",
      "\u001b[1;31mPanicException\u001b[0m: not implemented"
     ]
    }
   ],
   "source": [
    "Patient_df = Patient_Info.to_pandas()\n",
    "Health_df = Health_Information.to_pandas()\n",
    "Risk_df = Risk_Factors.to_pandas()\n",
    "Lifestyle_df = Lifestyle_Factors.to_pandas()"
   ]
  },
  {
   "cell_type": "code",
   "execution_count": null,
   "metadata": {},
   "outputs": [],
   "source": [
    "#Patient_df = Patient_Info.to_dict()"
   ]
  },
  {
   "cell_type": "code",
   "execution_count": 12,
   "metadata": {},
   "outputs": [
    {
     "ename": "PanicException",
     "evalue": "Object(\"object\", Some(object-registry)) not impl",
     "output_type": "error",
     "traceback": [
      "\u001b[1;31m---------------------------------------------------------------------------\u001b[0m",
      "\u001b[1;31mPanicException\u001b[0m                            Traceback (most recent call last)",
      "Cell \u001b[1;32mIn[12], line 1\u001b[0m\n\u001b[1;32m----> 1\u001b[0m Patient_Info\u001b[38;5;241m.\u001b[39mto_dict()\n",
      "File \u001b[1;32mc:\\Users\\kklos\\anaconda3\\envs\\dev\\lib\\site-packages\\IPython\\core\\displayhook.py:268\u001b[0m, in \u001b[0;36mDisplayHook.__call__\u001b[1;34m(self, result)\u001b[0m\n\u001b[0;32m    266\u001b[0m \u001b[38;5;28mself\u001b[39m\u001b[38;5;241m.\u001b[39mstart_displayhook()\n\u001b[0;32m    267\u001b[0m \u001b[38;5;28mself\u001b[39m\u001b[38;5;241m.\u001b[39mwrite_output_prompt()\n\u001b[1;32m--> 268\u001b[0m format_dict, md_dict \u001b[38;5;241m=\u001b[39m \u001b[38;5;28;43mself\u001b[39;49m\u001b[38;5;241;43m.\u001b[39;49m\u001b[43mcompute_format_data\u001b[49m\u001b[43m(\u001b[49m\u001b[43mresult\u001b[49m\u001b[43m)\u001b[49m\n\u001b[0;32m    269\u001b[0m \u001b[38;5;28mself\u001b[39m\u001b[38;5;241m.\u001b[39mupdate_user_ns(result)\n\u001b[0;32m    270\u001b[0m \u001b[38;5;28mself\u001b[39m\u001b[38;5;241m.\u001b[39mfill_exec_result(result)\n",
      "File \u001b[1;32mc:\\Users\\kklos\\anaconda3\\envs\\dev\\lib\\site-packages\\IPython\\core\\displayhook.py:157\u001b[0m, in \u001b[0;36mDisplayHook.compute_format_data\u001b[1;34m(self, result)\u001b[0m\n\u001b[0;32m    127\u001b[0m \u001b[38;5;28;01mdef\u001b[39;00m \u001b[38;5;21mcompute_format_data\u001b[39m(\u001b[38;5;28mself\u001b[39m, result):\n\u001b[0;32m    128\u001b[0m \u001b[38;5;250m    \u001b[39m\u001b[38;5;124;03m\"\"\"Compute format data of the object to be displayed.\u001b[39;00m\n\u001b[0;32m    129\u001b[0m \n\u001b[0;32m    130\u001b[0m \u001b[38;5;124;03m    The format data is a generalization of the :func:`repr` of an object.\u001b[39;00m\n\u001b[1;32m   (...)\u001b[0m\n\u001b[0;32m    155\u001b[0m \n\u001b[0;32m    156\u001b[0m \u001b[38;5;124;03m    \"\"\"\u001b[39;00m\n\u001b[1;32m--> 157\u001b[0m     \u001b[38;5;28;01mreturn\u001b[39;00m \u001b[38;5;28;43mself\u001b[39;49m\u001b[38;5;241;43m.\u001b[39;49m\u001b[43mshell\u001b[49m\u001b[38;5;241;43m.\u001b[39;49m\u001b[43mdisplay_formatter\u001b[49m\u001b[38;5;241;43m.\u001b[39;49m\u001b[43mformat\u001b[49m\u001b[43m(\u001b[49m\u001b[43mresult\u001b[49m\u001b[43m)\u001b[49m\n",
      "File \u001b[1;32mc:\\Users\\kklos\\anaconda3\\envs\\dev\\lib\\site-packages\\IPython\\core\\formatters.py:179\u001b[0m, in \u001b[0;36mDisplayFormatter.format\u001b[1;34m(self, obj, include, exclude)\u001b[0m\n\u001b[0;32m    177\u001b[0m md \u001b[38;5;241m=\u001b[39m \u001b[38;5;28;01mNone\u001b[39;00m\n\u001b[0;32m    178\u001b[0m \u001b[38;5;28;01mtry\u001b[39;00m:\n\u001b[1;32m--> 179\u001b[0m     data \u001b[38;5;241m=\u001b[39m \u001b[43mformatter\u001b[49m\u001b[43m(\u001b[49m\u001b[43mobj\u001b[49m\u001b[43m)\u001b[49m\n\u001b[0;32m    180\u001b[0m \u001b[38;5;28;01mexcept\u001b[39;00m:\n\u001b[0;32m    181\u001b[0m     \u001b[38;5;66;03m# FIXME: log the exception\u001b[39;00m\n\u001b[0;32m    182\u001b[0m     \u001b[38;5;28;01mraise\u001b[39;00m\n",
      "File \u001b[1;32mc:\\Users\\kklos\\anaconda3\\envs\\dev\\lib\\site-packages\\decorator.py:232\u001b[0m, in \u001b[0;36mdecorate.<locals>.fun\u001b[1;34m(*args, **kw)\u001b[0m\n\u001b[0;32m    230\u001b[0m \u001b[38;5;28;01mif\u001b[39;00m \u001b[38;5;129;01mnot\u001b[39;00m kwsyntax:\n\u001b[0;32m    231\u001b[0m     args, kw \u001b[38;5;241m=\u001b[39m fix(args, kw, sig)\n\u001b[1;32m--> 232\u001b[0m \u001b[38;5;28;01mreturn\u001b[39;00m caller(func, \u001b[38;5;241m*\u001b[39m(extras \u001b[38;5;241m+\u001b[39m args), \u001b[38;5;241m*\u001b[39m\u001b[38;5;241m*\u001b[39mkw)\n",
      "File \u001b[1;32mc:\\Users\\kklos\\anaconda3\\envs\\dev\\lib\\site-packages\\IPython\\core\\formatters.py:223\u001b[0m, in \u001b[0;36mcatch_format_error\u001b[1;34m(method, self, *args, **kwargs)\u001b[0m\n\u001b[0;32m    221\u001b[0m \u001b[38;5;250m\u001b[39m\u001b[38;5;124;03m\"\"\"show traceback on failed format call\"\"\"\u001b[39;00m\n\u001b[0;32m    222\u001b[0m \u001b[38;5;28;01mtry\u001b[39;00m:\n\u001b[1;32m--> 223\u001b[0m     r \u001b[38;5;241m=\u001b[39m method(\u001b[38;5;28mself\u001b[39m, \u001b[38;5;241m*\u001b[39margs, \u001b[38;5;241m*\u001b[39m\u001b[38;5;241m*\u001b[39mkwargs)\n\u001b[0;32m    224\u001b[0m \u001b[38;5;28;01mexcept\u001b[39;00m \u001b[38;5;167;01mNotImplementedError\u001b[39;00m:\n\u001b[0;32m    225\u001b[0m     \u001b[38;5;66;03m# don't warn on NotImplementedErrors\u001b[39;00m\n\u001b[0;32m    226\u001b[0m     \u001b[38;5;28;01mreturn\u001b[39;00m \u001b[38;5;28mself\u001b[39m\u001b[38;5;241m.\u001b[39m_check_return(\u001b[38;5;28;01mNone\u001b[39;00m, args[\u001b[38;5;241m0\u001b[39m])\n",
      "File \u001b[1;32mc:\\Users\\kklos\\anaconda3\\envs\\dev\\lib\\site-packages\\IPython\\core\\formatters.py:708\u001b[0m, in \u001b[0;36mPlainTextFormatter.__call__\u001b[1;34m(self, obj)\u001b[0m\n\u001b[0;32m    701\u001b[0m stream \u001b[38;5;241m=\u001b[39m StringIO()\n\u001b[0;32m    702\u001b[0m printer \u001b[38;5;241m=\u001b[39m pretty\u001b[38;5;241m.\u001b[39mRepresentationPrinter(stream, \u001b[38;5;28mself\u001b[39m\u001b[38;5;241m.\u001b[39mverbose,\n\u001b[0;32m    703\u001b[0m     \u001b[38;5;28mself\u001b[39m\u001b[38;5;241m.\u001b[39mmax_width, \u001b[38;5;28mself\u001b[39m\u001b[38;5;241m.\u001b[39mnewline,\n\u001b[0;32m    704\u001b[0m     max_seq_length\u001b[38;5;241m=\u001b[39m\u001b[38;5;28mself\u001b[39m\u001b[38;5;241m.\u001b[39mmax_seq_length,\n\u001b[0;32m    705\u001b[0m     singleton_pprinters\u001b[38;5;241m=\u001b[39m\u001b[38;5;28mself\u001b[39m\u001b[38;5;241m.\u001b[39msingleton_printers,\n\u001b[0;32m    706\u001b[0m     type_pprinters\u001b[38;5;241m=\u001b[39m\u001b[38;5;28mself\u001b[39m\u001b[38;5;241m.\u001b[39mtype_printers,\n\u001b[0;32m    707\u001b[0m     deferred_pprinters\u001b[38;5;241m=\u001b[39m\u001b[38;5;28mself\u001b[39m\u001b[38;5;241m.\u001b[39mdeferred_printers)\n\u001b[1;32m--> 708\u001b[0m \u001b[43mprinter\u001b[49m\u001b[38;5;241;43m.\u001b[39;49m\u001b[43mpretty\u001b[49m\u001b[43m(\u001b[49m\u001b[43mobj\u001b[49m\u001b[43m)\u001b[49m\n\u001b[0;32m    709\u001b[0m printer\u001b[38;5;241m.\u001b[39mflush()\n\u001b[0;32m    710\u001b[0m \u001b[38;5;28;01mreturn\u001b[39;00m stream\u001b[38;5;241m.\u001b[39mgetvalue()\n",
      "File \u001b[1;32mc:\\Users\\kklos\\anaconda3\\envs\\dev\\lib\\site-packages\\IPython\\lib\\pretty.py:393\u001b[0m, in \u001b[0;36mRepresentationPrinter.pretty\u001b[1;34m(self, obj)\u001b[0m\n\u001b[0;32m    390\u001b[0m \u001b[38;5;28;01mfor\u001b[39;00m \u001b[38;5;28mcls\u001b[39m \u001b[38;5;129;01min\u001b[39;00m _get_mro(obj_class):\n\u001b[0;32m    391\u001b[0m     \u001b[38;5;28;01mif\u001b[39;00m \u001b[38;5;28mcls\u001b[39m \u001b[38;5;129;01min\u001b[39;00m \u001b[38;5;28mself\u001b[39m\u001b[38;5;241m.\u001b[39mtype_pprinters:\n\u001b[0;32m    392\u001b[0m         \u001b[38;5;66;03m# printer registered in self.type_pprinters\u001b[39;00m\n\u001b[1;32m--> 393\u001b[0m         \u001b[38;5;28;01mreturn\u001b[39;00m \u001b[38;5;28;43mself\u001b[39;49m\u001b[38;5;241;43m.\u001b[39;49m\u001b[43mtype_pprinters\u001b[49m\u001b[43m[\u001b[49m\u001b[38;5;28;43mcls\u001b[39;49m\u001b[43m]\u001b[49m\u001b[43m(\u001b[49m\u001b[43mobj\u001b[49m\u001b[43m,\u001b[49m\u001b[43m \u001b[49m\u001b[38;5;28;43mself\u001b[39;49m\u001b[43m,\u001b[49m\u001b[43m \u001b[49m\u001b[43mcycle\u001b[49m\u001b[43m)\u001b[49m\n\u001b[0;32m    394\u001b[0m     \u001b[38;5;28;01melse\u001b[39;00m:\n\u001b[0;32m    395\u001b[0m         \u001b[38;5;66;03m# deferred printer\u001b[39;00m\n\u001b[0;32m    396\u001b[0m         printer \u001b[38;5;241m=\u001b[39m \u001b[38;5;28mself\u001b[39m\u001b[38;5;241m.\u001b[39m_in_deferred_types(\u001b[38;5;28mcls\u001b[39m)\n",
      "File \u001b[1;32mc:\\Users\\kklos\\anaconda3\\envs\\dev\\lib\\site-packages\\IPython\\lib\\pretty.py:692\u001b[0m, in \u001b[0;36m_dict_pprinter_factory.<locals>.inner\u001b[1;34m(obj, p, cycle)\u001b[0m\n\u001b[0;32m    690\u001b[0m     p\u001b[38;5;241m.\u001b[39mpretty(key)\n\u001b[0;32m    691\u001b[0m     p\u001b[38;5;241m.\u001b[39mtext(\u001b[38;5;124m'\u001b[39m\u001b[38;5;124m: \u001b[39m\u001b[38;5;124m'\u001b[39m)\n\u001b[1;32m--> 692\u001b[0m     \u001b[43mp\u001b[49m\u001b[38;5;241;43m.\u001b[39;49m\u001b[43mpretty\u001b[49m\u001b[43m(\u001b[49m\u001b[43mobj\u001b[49m\u001b[43m[\u001b[49m\u001b[43mkey\u001b[49m\u001b[43m]\u001b[49m\u001b[43m)\u001b[49m\n\u001b[0;32m    693\u001b[0m p\u001b[38;5;241m.\u001b[39mend_group(step, end)\n",
      "File \u001b[1;32mc:\\Users\\kklos\\anaconda3\\envs\\dev\\lib\\site-packages\\IPython\\lib\\pretty.py:410\u001b[0m, in \u001b[0;36mRepresentationPrinter.pretty\u001b[1;34m(self, obj)\u001b[0m\n\u001b[0;32m    407\u001b[0m                         \u001b[38;5;28;01mreturn\u001b[39;00m meth(obj, \u001b[38;5;28mself\u001b[39m, cycle)\n\u001b[0;32m    408\u001b[0m                 \u001b[38;5;28;01mif\u001b[39;00m \u001b[38;5;28mcls\u001b[39m \u001b[38;5;129;01mis\u001b[39;00m \u001b[38;5;129;01mnot\u001b[39;00m \u001b[38;5;28mobject\u001b[39m \\\n\u001b[0;32m    409\u001b[0m                         \u001b[38;5;129;01mand\u001b[39;00m \u001b[38;5;28mcallable\u001b[39m(\u001b[38;5;28mcls\u001b[39m\u001b[38;5;241m.\u001b[39m\u001b[38;5;18m__dict__\u001b[39m\u001b[38;5;241m.\u001b[39mget(\u001b[38;5;124m'\u001b[39m\u001b[38;5;124m__repr__\u001b[39m\u001b[38;5;124m'\u001b[39m)):\n\u001b[1;32m--> 410\u001b[0m                     \u001b[38;5;28;01mreturn\u001b[39;00m \u001b[43m_repr_pprint\u001b[49m\u001b[43m(\u001b[49m\u001b[43mobj\u001b[49m\u001b[43m,\u001b[49m\u001b[43m \u001b[49m\u001b[38;5;28;43mself\u001b[39;49m\u001b[43m,\u001b[49m\u001b[43m \u001b[49m\u001b[43mcycle\u001b[49m\u001b[43m)\u001b[49m\n\u001b[0;32m    412\u001b[0m     \u001b[38;5;28;01mreturn\u001b[39;00m _default_pprint(obj, \u001b[38;5;28mself\u001b[39m, cycle)\n\u001b[0;32m    413\u001b[0m \u001b[38;5;28;01mfinally\u001b[39;00m:\n",
      "File \u001b[1;32mc:\\Users\\kklos\\anaconda3\\envs\\dev\\lib\\site-packages\\IPython\\lib\\pretty.py:778\u001b[0m, in \u001b[0;36m_repr_pprint\u001b[1;34m(obj, p, cycle)\u001b[0m\n\u001b[0;32m    776\u001b[0m \u001b[38;5;250m\u001b[39m\u001b[38;5;124;03m\"\"\"A pprint that just redirects to the normal repr function.\"\"\"\u001b[39;00m\n\u001b[0;32m    777\u001b[0m \u001b[38;5;66;03m# Find newlines and replace them with p.break_()\u001b[39;00m\n\u001b[1;32m--> 778\u001b[0m output \u001b[38;5;241m=\u001b[39m \u001b[38;5;28;43mrepr\u001b[39;49m\u001b[43m(\u001b[49m\u001b[43mobj\u001b[49m\u001b[43m)\u001b[49m\n\u001b[0;32m    779\u001b[0m lines \u001b[38;5;241m=\u001b[39m output\u001b[38;5;241m.\u001b[39msplitlines()\n\u001b[0;32m    780\u001b[0m \u001b[38;5;28;01mwith\u001b[39;00m p\u001b[38;5;241m.\u001b[39mgroup():\n",
      "File \u001b[1;32mc:\\Users\\kklos\\anaconda3\\envs\\dev\\lib\\site-packages\\polars\\series\\series.py:595\u001b[0m, in \u001b[0;36mSeries.__repr__\u001b[1;34m(self)\u001b[0m\n\u001b[0;32m    594\u001b[0m \u001b[38;5;28;01mdef\u001b[39;00m \u001b[38;5;21m__repr__\u001b[39m(\u001b[38;5;28mself\u001b[39m) \u001b[38;5;241m-\u001b[39m\u001b[38;5;241m>\u001b[39m \u001b[38;5;28mstr\u001b[39m:\n\u001b[1;32m--> 595\u001b[0m     \u001b[38;5;28;01mreturn\u001b[39;00m \u001b[38;5;28;43mself\u001b[39;49m\u001b[38;5;241;43m.\u001b[39;49m\u001b[38;5;21;43m__str__\u001b[39;49m\u001b[43m(\u001b[49m\u001b[43m)\u001b[49m\n",
      "File \u001b[1;32mc:\\Users\\kklos\\anaconda3\\envs\\dev\\lib\\site-packages\\polars\\series\\series.py:591\u001b[0m, in \u001b[0;36mSeries.__str__\u001b[1;34m(self)\u001b[0m\n\u001b[0;32m    590\u001b[0m \u001b[38;5;28;01mdef\u001b[39;00m \u001b[38;5;21m__str__\u001b[39m(\u001b[38;5;28mself\u001b[39m) \u001b[38;5;241m-\u001b[39m\u001b[38;5;241m>\u001b[39m \u001b[38;5;28mstr\u001b[39m:\n\u001b[1;32m--> 591\u001b[0m     s_repr: \u001b[38;5;28mstr\u001b[39m \u001b[38;5;241m=\u001b[39m \u001b[38;5;28;43mself\u001b[39;49m\u001b[38;5;241;43m.\u001b[39;49m\u001b[43m_s\u001b[49m\u001b[38;5;241;43m.\u001b[39;49m\u001b[43mas_str\u001b[49m\u001b[43m(\u001b[49m\u001b[43m)\u001b[49m\n\u001b[0;32m    592\u001b[0m     \u001b[38;5;28;01mreturn\u001b[39;00m s_repr\u001b[38;5;241m.\u001b[39mreplace(\u001b[38;5;124m\"\u001b[39m\u001b[38;5;124mSeries\u001b[39m\u001b[38;5;124m\"\u001b[39m, \u001b[38;5;124mf\u001b[39m\u001b[38;5;124m\"\u001b[39m\u001b[38;5;132;01m{\u001b[39;00m\u001b[38;5;28mself\u001b[39m\u001b[38;5;241m.\u001b[39m\u001b[38;5;18m__class__\u001b[39m\u001b[38;5;241m.\u001b[39m\u001b[38;5;18m__name__\u001b[39m\u001b[38;5;132;01m}\u001b[39;00m\u001b[38;5;124m\"\u001b[39m, \u001b[38;5;241m1\u001b[39m)\n",
      "\u001b[1;31mPanicException\u001b[0m: Object(\"object\", Some(object-registry)) not impl"
     ]
    }
   ],
   "source": [
    "Patient_Info.to_dict()"
   ]
  },
  {
   "cell_type": "code",
   "execution_count": null,
   "metadata": {},
   "outputs": [],
   "source": [
    "# Connect to the SQLite database\n",
    "conn = sqlite3.connect('Heart_Attack_Risk_Dataset.db')"
   ]
  },
  {
   "cell_type": "code",
   "execution_count": null,
   "metadata": {},
   "outputs": [],
   "source": [
    "# Specify the SQL table name to write to\n",
    "patient_table = 'Patient_Info'\n",
    "health_table = 'Health_Information'\n",
    "risk_table = 'Risk_Factors'\n",
    "lifestyle_table = 'Lifestyle_Factors'"
   ]
  },
  {
   "cell_type": "code",
   "execution_count": null,
   "metadata": {},
   "outputs": [
    {
     "ename": "AttributeError",
     "evalue": "'DataFrame' object has no attribute 'write_sql_table'",
     "output_type": "error",
     "traceback": [
      "\u001b[1;31m---------------------------------------------------------------------------\u001b[0m",
      "\u001b[1;31mAttributeError\u001b[0m                            Traceback (most recent call last)",
      "Cell \u001b[1;32mIn[17], line 2\u001b[0m\n\u001b[0;32m      1\u001b[0m \u001b[38;5;66;03m# Write the Polars DataFrame to the SQL table\u001b[39;00m\n\u001b[1;32m----> 2\u001b[0m \u001b[43mPatient_Info\u001b[49m\u001b[38;5;241;43m.\u001b[39;49m\u001b[43mwrite_sql_table\u001b[49m(patient_table, conn)\n",
      "\u001b[1;31mAttributeError\u001b[0m: 'DataFrame' object has no attribute 'write_sql_table'"
     ]
    }
   ],
   "source": [
    "# Write the Polars DataFrame to the SQL table\n",
    "Patient_Info.to_sql(patient_table, conn, index=False, if_exists='replace')\n",
    "Health_Information.to_sql(health_table, conn, index=False, if_exists='replace')\n",
    "Risk_Factors.to_sql(risk_table, conn, index=False, if_exists='replace')\n",
    "Lifestyle_Factors.to_sql(lifestyle_table, conn, index=False, if_exists='replace')"
   ]
  },
  {
   "cell_type": "code",
   "execution_count": null,
   "metadata": {},
   "outputs": [],
   "source": [
    "conn.close()"
   ]
  }
 ],
 "metadata": {
  "kernelspec": {
   "display_name": "dev",
   "language": "python",
   "name": "python3"
  },
  "language_info": {
   "codemirror_mode": {
    "name": "ipython",
    "version": 3
   },
   "file_extension": ".py",
   "mimetype": "text/x-python",
   "name": "python",
   "nbconvert_exporter": "python",
   "pygments_lexer": "ipython3",
   "version": "3.10.13"
  }
 },
 "nbformat": 4,
 "nbformat_minor": 2
}
