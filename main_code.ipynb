{
 "cells": [
  {
   "cell_type": "code",
   "execution_count": 1,
   "metadata": {},
   "outputs": [],
   "source": [
    "import polars as pl\n",
    "import pandas as pd"
   ]
  },
  {
   "cell_type": "code",
   "execution_count": 10,
   "metadata": {},
   "outputs": [],
   "source": [
    "csv_path = \"Resources/heart_attack_prediction_dataset.csv\"\n",
    "heart_df = pl.read_csv(csv_path)"
   ]
  },
  {
   "cell_type": "code",
   "execution_count": 26,
   "metadata": {},
   "outputs": [
    {
     "data": {
      "text/html": [
       "<div><style>\n",
       ".dataframe > thead > tr,\n",
       ".dataframe > tbody > tr {\n",
       "  text-align: right;\n",
       "  white-space: pre-wrap;\n",
       "}\n",
       "</style>\n",
       "<small>shape: (5, 26)</small><table border=\"1\" class=\"dataframe\"><thead><tr><th>Patient ID</th><th>Age</th><th>Sex</th><th>Cholesterol</th><th>Blood Pressure</th><th>Heart Rate</th><th>Diabetes</th><th>Family History</th><th>Smoking</th><th>Obesity</th><th>Alcohol Consumption</th><th>Exercise Hours Per Week</th><th>Diet</th><th>Previous Heart Problems</th><th>Medication Use</th><th>Stress Level</th><th>Sedentary Hours Per Day</th><th>Income</th><th>BMI</th><th>Triglycerides</th><th>Physical Activity Days Per Week</th><th>Sleep Hours Per Day</th><th>Country</th><th>Continent</th><th>Hemisphere</th><th>Heart Attack Risk</th></tr><tr><td>str</td><td>i64</td><td>str</td><td>i64</td><td>str</td><td>i64</td><td>i64</td><td>i64</td><td>i64</td><td>i64</td><td>i64</td><td>f64</td><td>str</td><td>i64</td><td>i64</td><td>i64</td><td>f64</td><td>i64</td><td>f64</td><td>i64</td><td>i64</td><td>i64</td><td>str</td><td>str</td><td>str</td><td>i64</td></tr></thead><tbody><tr><td>&quot;BMW7812&quot;</td><td>67</td><td>&quot;Male&quot;</td><td>208</td><td>&quot;158/88&quot;</td><td>72</td><td>0</td><td>0</td><td>1</td><td>0</td><td>0</td><td>4.168189</td><td>&quot;Average&quot;</td><td>0</td><td>0</td><td>9</td><td>6.615001</td><td>261404</td><td>31.251233</td><td>286</td><td>0</td><td>6</td><td>&quot;Argentina&quot;</td><td>&quot;South America&quot;</td><td>&quot;Southern Hemis…</td><td>0</td></tr><tr><td>&quot;CZE1114&quot;</td><td>21</td><td>&quot;Male&quot;</td><td>389</td><td>&quot;165/93&quot;</td><td>98</td><td>1</td><td>1</td><td>1</td><td>1</td><td>1</td><td>1.813242</td><td>&quot;Unhealthy&quot;</td><td>1</td><td>0</td><td>1</td><td>4.963459</td><td>285768</td><td>27.194973</td><td>235</td><td>1</td><td>7</td><td>&quot;Canada&quot;</td><td>&quot;North America&quot;</td><td>&quot;Northern Hemis…</td><td>0</td></tr><tr><td>&quot;BNI9906&quot;</td><td>21</td><td>&quot;Female&quot;</td><td>324</td><td>&quot;174/99&quot;</td><td>72</td><td>1</td><td>0</td><td>0</td><td>0</td><td>0</td><td>2.078353</td><td>&quot;Healthy&quot;</td><td>1</td><td>1</td><td>9</td><td>9.463426</td><td>235282</td><td>28.176571</td><td>587</td><td>4</td><td>4</td><td>&quot;France&quot;</td><td>&quot;Europe&quot;</td><td>&quot;Northern Hemis…</td><td>0</td></tr><tr><td>&quot;JLN3497&quot;</td><td>84</td><td>&quot;Male&quot;</td><td>383</td><td>&quot;163/100&quot;</td><td>73</td><td>1</td><td>1</td><td>1</td><td>0</td><td>1</td><td>9.82813</td><td>&quot;Average&quot;</td><td>1</td><td>0</td><td>9</td><td>7.648981</td><td>125640</td><td>36.464704</td><td>378</td><td>3</td><td>4</td><td>&quot;Canada&quot;</td><td>&quot;North America&quot;</td><td>&quot;Northern Hemis…</td><td>0</td></tr><tr><td>&quot;GFO8847&quot;</td><td>66</td><td>&quot;Male&quot;</td><td>318</td><td>&quot;91/88&quot;</td><td>93</td><td>1</td><td>1</td><td>1</td><td>1</td><td>0</td><td>5.804299</td><td>&quot;Unhealthy&quot;</td><td>1</td><td>0</td><td>6</td><td>1.514821</td><td>160555</td><td>21.809144</td><td>231</td><td>1</td><td>5</td><td>&quot;Thailand&quot;</td><td>&quot;Asia&quot;</td><td>&quot;Northern Hemis…</td><td>0</td></tr></tbody></table></div>"
      ],
      "text/plain": [
       "shape: (5, 26)\n",
       "┌────────────┬─────┬────────┬─────────────┬───┬───────────┬───────────┬────────────┬────────┐\n",
       "│ Patient ID ┆ Age ┆ Sex    ┆ Cholesterol ┆ … ┆ Country   ┆ Continent ┆ Hemisphere ┆ Heart  │\n",
       "│ ---        ┆ --- ┆ ---    ┆ ---         ┆   ┆ ---       ┆ ---       ┆ ---        ┆ Attack │\n",
       "│ str        ┆ i64 ┆ str    ┆ i64         ┆   ┆ str       ┆ str       ┆ str        ┆ Risk   │\n",
       "│            ┆     ┆        ┆             ┆   ┆           ┆           ┆            ┆ ---    │\n",
       "│            ┆     ┆        ┆             ┆   ┆           ┆           ┆            ┆ i64    │\n",
       "╞════════════╪═════╪════════╪═════════════╪═══╪═══════════╪═══════════╪════════════╪════════╡\n",
       "│ BMW7812    ┆ 67  ┆ Male   ┆ 208         ┆ … ┆ Argentina ┆ South     ┆ Southern   ┆ 0      │\n",
       "│            ┆     ┆        ┆             ┆   ┆           ┆ America   ┆ Hemisphere ┆        │\n",
       "│ CZE1114    ┆ 21  ┆ Male   ┆ 389         ┆ … ┆ Canada    ┆ North     ┆ Northern   ┆ 0      │\n",
       "│            ┆     ┆        ┆             ┆   ┆           ┆ America   ┆ Hemisphere ┆        │\n",
       "│ BNI9906    ┆ 21  ┆ Female ┆ 324         ┆ … ┆ France    ┆ Europe    ┆ Northern   ┆ 0      │\n",
       "│            ┆     ┆        ┆             ┆   ┆           ┆           ┆ Hemisphere ┆        │\n",
       "│ JLN3497    ┆ 84  ┆ Male   ┆ 383         ┆ … ┆ Canada    ┆ North     ┆ Northern   ┆ 0      │\n",
       "│            ┆     ┆        ┆             ┆   ┆           ┆ America   ┆ Hemisphere ┆        │\n",
       "│ GFO8847    ┆ 66  ┆ Male   ┆ 318         ┆ … ┆ Thailand  ┆ Asia      ┆ Northern   ┆ 0      │\n",
       "│            ┆     ┆        ┆             ┆   ┆           ┆           ┆ Hemisphere ┆        │\n",
       "└────────────┴─────┴────────┴─────────────┴───┴───────────┴───────────┴────────────┴────────┘"
      ]
     },
     "execution_count": 26,
     "metadata": {},
     "output_type": "execute_result"
    }
   ],
   "source": [
    "heart_df.head()"
   ]
  },
  {
   "cell_type": "code",
   "execution_count": 31,
   "metadata": {},
   "outputs": [],
   "source": [
    "heart_df = heart_df.drop(['Obesity', 'Exercise Hours Per Week', 'Diet', 'Medication Use', 'Sedentary Hours Per Day', 'Hemisphere', 'Heart Attack Risk'])"
   ]
  },
  {
   "cell_type": "code",
   "execution_count": 36,
   "metadata": {},
   "outputs": [],
   "source": [
    "heart_df = heart_df[['Patient ID', 'Age', 'Sex', 'Income', 'Country', 'Continent', 'BMI', 'Blood Pressure', 'Heart Rate', 'Cholesterol', 'Triglycerides', 'Diabetes', 'Family History', 'Previous Heart Problems', 'Alcohol Consumption', 'Smoking', 'Stress Level', 'Sleep Hours Per Day', 'Physical Activity Days Per Week']]"
   ]
  },
  {
   "cell_type": "code",
   "execution_count": 53,
   "metadata": {},
   "outputs": [
    {
     "data": {
      "text/html": [
       "<div><style>\n",
       ".dataframe > thead > tr,\n",
       ".dataframe > tbody > tr {\n",
       "  text-align: right;\n",
       "  white-space: pre-wrap;\n",
       "}\n",
       "</style>\n",
       "<small>shape: (5, 19)</small><table border=\"1\" class=\"dataframe\"><thead><tr><th>Patient ID</th><th>Age</th><th>Sex</th><th>Income</th><th>Country</th><th>Continent</th><th>BMI</th><th>Blood Pressure</th><th>Heart Rate</th><th>Cholesterol</th><th>Triglycerides</th><th>Diabetes</th><th>Family History</th><th>Previous Heart Problems</th><th>Alcohol Consumption</th><th>Smoking</th><th>Stress Level</th><th>Sleep Hours Per Day</th><th>Physical Activity Days Per Week</th></tr><tr><td>str</td><td>i64</td><td>str</td><td>i64</td><td>str</td><td>str</td><td>f64</td><td>str</td><td>i64</td><td>i64</td><td>i64</td><td>i64</td><td>i64</td><td>i64</td><td>i64</td><td>i64</td><td>i64</td><td>i64</td><td>i64</td></tr></thead><tbody><tr><td>&quot;BMW7812&quot;</td><td>67</td><td>&quot;Male&quot;</td><td>261404</td><td>&quot;Argentina&quot;</td><td>&quot;South America&quot;</td><td>31.251233</td><td>&quot;158/88&quot;</td><td>72</td><td>208</td><td>286</td><td>0</td><td>0</td><td>0</td><td>0</td><td>1</td><td>9</td><td>6</td><td>0</td></tr><tr><td>&quot;CZE1114&quot;</td><td>21</td><td>&quot;Male&quot;</td><td>285768</td><td>&quot;Canada&quot;</td><td>&quot;North America&quot;</td><td>27.194973</td><td>&quot;165/93&quot;</td><td>98</td><td>389</td><td>235</td><td>1</td><td>1</td><td>1</td><td>1</td><td>1</td><td>1</td><td>7</td><td>1</td></tr><tr><td>&quot;BNI9906&quot;</td><td>21</td><td>&quot;Female&quot;</td><td>235282</td><td>&quot;France&quot;</td><td>&quot;Europe&quot;</td><td>28.176571</td><td>&quot;174/99&quot;</td><td>72</td><td>324</td><td>587</td><td>1</td><td>0</td><td>1</td><td>0</td><td>0</td><td>9</td><td>4</td><td>4</td></tr><tr><td>&quot;JLN3497&quot;</td><td>84</td><td>&quot;Male&quot;</td><td>125640</td><td>&quot;Canada&quot;</td><td>&quot;North America&quot;</td><td>36.464704</td><td>&quot;163/100&quot;</td><td>73</td><td>383</td><td>378</td><td>1</td><td>1</td><td>1</td><td>1</td><td>1</td><td>9</td><td>4</td><td>3</td></tr><tr><td>&quot;GFO8847&quot;</td><td>66</td><td>&quot;Male&quot;</td><td>160555</td><td>&quot;Thailand&quot;</td><td>&quot;Asia&quot;</td><td>21.809144</td><td>&quot;91/88&quot;</td><td>93</td><td>318</td><td>231</td><td>1</td><td>1</td><td>1</td><td>0</td><td>1</td><td>6</td><td>5</td><td>1</td></tr></tbody></table></div>"
      ],
      "text/plain": [
       "shape: (5, 19)\n",
       "┌────────────┬─────┬────────┬────────┬───┬─────────┬──────────────┬────────────────┬───────────────┐\n",
       "│ Patient ID ┆ Age ┆ Sex    ┆ Income ┆ … ┆ Smoking ┆ Stress Level ┆ Sleep Hours    ┆ Physical      │\n",
       "│ ---        ┆ --- ┆ ---    ┆ ---    ┆   ┆ ---     ┆ ---          ┆ Per Day        ┆ Activity Days │\n",
       "│ str        ┆ i64 ┆ str    ┆ i64    ┆   ┆ i64     ┆ i64          ┆ ---            ┆ Per Week      │\n",
       "│            ┆     ┆        ┆        ┆   ┆         ┆              ┆ i64            ┆ ---           │\n",
       "│            ┆     ┆        ┆        ┆   ┆         ┆              ┆                ┆ i64           │\n",
       "╞════════════╪═════╪════════╪════════╪═══╪═════════╪══════════════╪════════════════╪═══════════════╡\n",
       "│ BMW7812    ┆ 67  ┆ Male   ┆ 261404 ┆ … ┆ 1       ┆ 9            ┆ 6              ┆ 0             │\n",
       "│ CZE1114    ┆ 21  ┆ Male   ┆ 285768 ┆ … ┆ 1       ┆ 1            ┆ 7              ┆ 1             │\n",
       "│ BNI9906    ┆ 21  ┆ Female ┆ 235282 ┆ … ┆ 0       ┆ 9            ┆ 4              ┆ 4             │\n",
       "│ JLN3497    ┆ 84  ┆ Male   ┆ 125640 ┆ … ┆ 1       ┆ 9            ┆ 4              ┆ 3             │\n",
       "│ GFO8847    ┆ 66  ┆ Male   ┆ 160555 ┆ … ┆ 1       ┆ 6            ┆ 5              ┆ 1             │\n",
       "└────────────┴─────┴────────┴────────┴───┴─────────┴──────────────┴────────────────┴───────────────┘"
      ]
     },
     "execution_count": 53,
     "metadata": {},
     "output_type": "execute_result"
    }
   ],
   "source": [
    "heart_df.head()"
   ]
  },
  {
   "cell_type": "code",
   "execution_count": 67,
   "metadata": {},
   "outputs": [],
   "source": [
    "heart_df = heart_df.with_columns(pl.col('Diabetes').cast(pl.Boolean).alias('Diabetes'), \n",
    "           pl.col('Family History').cast(pl.Boolean).alias('Family History'),\n",
    "           pl.col('Previous Heart Problems').cast(pl.Boolean).alias('Previous Heart Problems'),\n",
    "           pl.col('Alcohol Consumption').cast(pl.Boolean).alias('Alcohol Consumption'),\n",
    "           pl.col('Smoking').cast(pl.Boolean).alias('Smoking')\n",
    ")"
   ]
  },
  {
   "cell_type": "code",
   "execution_count": 68,
   "metadata": {},
   "outputs": [
    {
     "data": {
      "text/html": [
       "<div><style>\n",
       ".dataframe > thead > tr,\n",
       ".dataframe > tbody > tr {\n",
       "  text-align: right;\n",
       "  white-space: pre-wrap;\n",
       "}\n",
       "</style>\n",
       "<small>shape: (8_763, 19)</small><table border=\"1\" class=\"dataframe\"><thead><tr><th>Patient ID</th><th>Age</th><th>Sex</th><th>Income</th><th>Country</th><th>Continent</th><th>BMI</th><th>Blood Pressure</th><th>Heart Rate</th><th>Cholesterol</th><th>Triglycerides</th><th>Diabetes</th><th>Family History</th><th>Previous Heart Problems</th><th>Alcohol Consumption</th><th>Smoking</th><th>Stress Level</th><th>Sleep Hours Per Day</th><th>Physical Activity Days Per Week</th></tr><tr><td>str</td><td>i64</td><td>str</td><td>i64</td><td>str</td><td>str</td><td>f64</td><td>str</td><td>i64</td><td>i64</td><td>i64</td><td>bool</td><td>bool</td><td>bool</td><td>bool</td><td>bool</td><td>i64</td><td>i64</td><td>i64</td></tr></thead><tbody><tr><td>&quot;BMW7812&quot;</td><td>67</td><td>&quot;Male&quot;</td><td>261404</td><td>&quot;Argentina&quot;</td><td>&quot;South America&quot;</td><td>31.251233</td><td>&quot;158/88&quot;</td><td>72</td><td>208</td><td>286</td><td>false</td><td>false</td><td>false</td><td>false</td><td>true</td><td>9</td><td>6</td><td>0</td></tr><tr><td>&quot;CZE1114&quot;</td><td>21</td><td>&quot;Male&quot;</td><td>285768</td><td>&quot;Canada&quot;</td><td>&quot;North America&quot;</td><td>27.194973</td><td>&quot;165/93&quot;</td><td>98</td><td>389</td><td>235</td><td>true</td><td>true</td><td>true</td><td>true</td><td>true</td><td>1</td><td>7</td><td>1</td></tr><tr><td>&quot;BNI9906&quot;</td><td>21</td><td>&quot;Female&quot;</td><td>235282</td><td>&quot;France&quot;</td><td>&quot;Europe&quot;</td><td>28.176571</td><td>&quot;174/99&quot;</td><td>72</td><td>324</td><td>587</td><td>true</td><td>false</td><td>true</td><td>false</td><td>false</td><td>9</td><td>4</td><td>4</td></tr><tr><td>&quot;JLN3497&quot;</td><td>84</td><td>&quot;Male&quot;</td><td>125640</td><td>&quot;Canada&quot;</td><td>&quot;North America&quot;</td><td>36.464704</td><td>&quot;163/100&quot;</td><td>73</td><td>383</td><td>378</td><td>true</td><td>true</td><td>true</td><td>true</td><td>true</td><td>9</td><td>4</td><td>3</td></tr><tr><td>&quot;GFO8847&quot;</td><td>66</td><td>&quot;Male&quot;</td><td>160555</td><td>&quot;Thailand&quot;</td><td>&quot;Asia&quot;</td><td>21.809144</td><td>&quot;91/88&quot;</td><td>93</td><td>318</td><td>231</td><td>true</td><td>true</td><td>true</td><td>false</td><td>true</td><td>6</td><td>5</td><td>1</td></tr><tr><td>&quot;ZOO7941&quot;</td><td>54</td><td>&quot;Female&quot;</td><td>241339</td><td>&quot;Germany&quot;</td><td>&quot;Europe&quot;</td><td>20.14684</td><td>&quot;172/86&quot;</td><td>48</td><td>297</td><td>795</td><td>true</td><td>true</td><td>true</td><td>true</td><td>true</td><td>2</td><td>10</td><td>5</td></tr><tr><td>&quot;WYV0966&quot;</td><td>90</td><td>&quot;Male&quot;</td><td>190450</td><td>&quot;Canada&quot;</td><td>&quot;North America&quot;</td><td>28.885811</td><td>&quot;102/73&quot;</td><td>84</td><td>358</td><td>284</td><td>false</td><td>false</td><td>false</td><td>true</td><td>true</td><td>7</td><td>10</td><td>4</td></tr><tr><td>&quot;XXM0972&quot;</td><td>84</td><td>&quot;Male&quot;</td><td>122093</td><td>&quot;Japan&quot;</td><td>&quot;Asia&quot;</td><td>22.221862</td><td>&quot;131/68&quot;</td><td>107</td><td>220</td><td>370</td><td>false</td><td>false</td><td>false</td><td>true</td><td>true</td><td>4</td><td>7</td><td>6</td></tr><tr><td>&quot;XCQ5937&quot;</td><td>20</td><td>&quot;Male&quot;</td><td>25086</td><td>&quot;Brazil&quot;</td><td>&quot;South America&quot;</td><td>35.809901</td><td>&quot;144/105&quot;</td><td>68</td><td>145</td><td>790</td><td>true</td><td>false</td><td>false</td><td>false</td><td>true</td><td>5</td><td>4</td><td>7</td></tr><tr><td>&quot;FTJ5456&quot;</td><td>43</td><td>&quot;Female&quot;</td><td>209703</td><td>&quot;Japan&quot;</td><td>&quot;Asia&quot;</td><td>22.558917</td><td>&quot;160/70&quot;</td><td>55</td><td>248</td><td>232</td><td>false</td><td>true</td><td>false</td><td>true</td><td>true</td><td>4</td><td>7</td><td>7</td></tr><tr><td>&quot;HSD6283&quot;</td><td>73</td><td>&quot;Female&quot;</td><td>50030</td><td>&quot;South Africa&quot;</td><td>&quot;Africa&quot;</td><td>22.867911</td><td>&quot;107/69&quot;</td><td>97</td><td>373</td><td>469</td><td>true</td><td>true</td><td>true</td><td>true</td><td>true</td><td>8</td><td>4</td><td>0</td></tr><tr><td>&quot;YSP0073&quot;</td><td>71</td><td>&quot;Male&quot;</td><td>163066</td><td>&quot;United States&quot;</td><td>&quot;North America&quot;</td><td>32.485345</td><td>&quot;158/71&quot;</td><td>70</td><td>374</td><td>523</td><td>true</td><td>true</td><td>false</td><td>true</td><td>true</td><td>4</td><td>8</td><td>4</td></tr><tr><td>&hellip;</td><td>&hellip;</td><td>&hellip;</td><td>&hellip;</td><td>&hellip;</td><td>&hellip;</td><td>&hellip;</td><td>&hellip;</td><td>&hellip;</td><td>&hellip;</td><td>&hellip;</td><td>&hellip;</td><td>&hellip;</td><td>&hellip;</td><td>&hellip;</td><td>&hellip;</td><td>&hellip;</td><td>&hellip;</td><td>&hellip;</td></tr><tr><td>&quot;SVO4635&quot;</td><td>75</td><td>&quot;Male&quot;</td><td>228009</td><td>&quot;Spain&quot;</td><td>&quot;Europe&quot;</td><td>23.79328</td><td>&quot;102/89&quot;</td><td>78</td><td>176</td><td>748</td><td>false</td><td>false</td><td>false</td><td>true</td><td>true</td><td>3</td><td>8</td><td>5</td></tr><tr><td>&quot;UBM5982&quot;</td><td>65</td><td>&quot;Male&quot;</td><td>55934</td><td>&quot;Argentina&quot;</td><td>&quot;South America&quot;</td><td>22.710546</td><td>&quot;152/99&quot;</td><td>106</td><td>150</td><td>83</td><td>true</td><td>false</td><td>true</td><td>true</td><td>true</td><td>10</td><td>5</td><td>1</td></tr><tr><td>&quot;NVC8704&quot;</td><td>82</td><td>&quot;Male&quot;</td><td>141521</td><td>&quot;Australia&quot;</td><td>&quot;Australia&quot;</td><td>27.69424</td><td>&quot;126/108&quot;</td><td>87</td><td>311</td><td>515</td><td>false</td><td>true</td><td>true</td><td>true</td><td>true</td><td>7</td><td>5</td><td>1</td></tr><tr><td>&quot;LZM3606&quot;</td><td>80</td><td>&quot;Female&quot;</td><td>101341</td><td>&quot;Argentina&quot;</td><td>&quot;South America&quot;</td><td>20.49045</td><td>&quot;153/96&quot;</td><td>91</td><td>383</td><td>174</td><td>true</td><td>true</td><td>true</td><td>true</td><td>true</td><td>3</td><td>4</td><td>3</td></tr><tr><td>&quot;KQR8949&quot;</td><td>25</td><td>&quot;Male&quot;</td><td>79211</td><td>&quot;Spain&quot;</td><td>&quot;Europe&quot;</td><td>33.46936</td><td>&quot;137/94&quot;</td><td>78</td><td>307</td><td>296</td><td>false</td><td>true</td><td>false</td><td>true</td><td>true</td><td>3</td><td>5</td><td>7</td></tr><tr><td>&quot;BUE0416&quot;</td><td>22</td><td>&quot;Male&quot;</td><td>230235</td><td>&quot;Canada&quot;</td><td>&quot;North America&quot;</td><td>20.295054</td><td>&quot;115/87&quot;</td><td>108</td><td>347</td><td>641</td><td>false</td><td>true</td><td>true</td><td>true</td><td>true</td><td>1</td><td>9</td><td>2</td></tr><tr><td>&quot;YDX2478&quot;</td><td>59</td><td>&quot;Female&quot;</td><td>70415</td><td>&quot;China&quot;</td><td>&quot;Asia&quot;</td><td>39.976061</td><td>&quot;93/78&quot;</td><td>99</td><td>378</td><td>158</td><td>false</td><td>true</td><td>false</td><td>false</td><td>true</td><td>4</td><td>9</td><td>1</td></tr><tr><td>&quot;MSV9918&quot;</td><td>60</td><td>&quot;Male&quot;</td><td>235420</td><td>&quot;Thailand&quot;</td><td>&quot;Asia&quot;</td><td>19.655895</td><td>&quot;94/76&quot;</td><td>61</td><td>121</td><td>67</td><td>true</td><td>true</td><td>true</td><td>true</td><td>true</td><td>8</td><td>7</td><td>7</td></tr><tr><td>&quot;QSV6764&quot;</td><td>28</td><td>&quot;Female&quot;</td><td>217881</td><td>&quot;Canada&quot;</td><td>&quot;North America&quot;</td><td>23.993866</td><td>&quot;157/102&quot;</td><td>73</td><td>120</td><td>617</td><td>true</td><td>false</td><td>false</td><td>false</td><td>false</td><td>8</td><td>9</td><td>4</td></tr><tr><td>&quot;XKA5925&quot;</td><td>47</td><td>&quot;Male&quot;</td><td>36998</td><td>&quot;Brazil&quot;</td><td>&quot;South America&quot;</td><td>35.406146</td><td>&quot;161/75&quot;</td><td>105</td><td>250</td><td>527</td><td>false</td><td>true</td><td>true</td><td>true</td><td>true</td><td>5</td><td>4</td><td>4</td></tr><tr><td>&quot;EPE6801&quot;</td><td>36</td><td>&quot;Male&quot;</td><td>209943</td><td>&quot;Brazil&quot;</td><td>&quot;South America&quot;</td><td>27.29402</td><td>&quot;119/67&quot;</td><td>60</td><td>178</td><td>114</td><td>true</td><td>false</td><td>true</td><td>false</td><td>true</td><td>5</td><td>8</td><td>2</td></tr><tr><td>&quot;ZWN9666&quot;</td><td>25</td><td>&quot;Female&quot;</td><td>247338</td><td>&quot;United Kingdom…</td><td>&quot;Europe&quot;</td><td>32.914151</td><td>&quot;138/67&quot;</td><td>75</td><td>356</td><td>180</td><td>true</td><td>true</td><td>false</td><td>true</td><td>false</td><td>8</td><td>4</td><td>7</td></tr></tbody></table></div>"
      ],
      "text/plain": [
       "shape: (8_763, 19)\n",
       "┌────────────┬─────┬────────┬────────┬───┬─────────┬──────────────┬────────────────┬───────────────┐\n",
       "│ Patient ID ┆ Age ┆ Sex    ┆ Income ┆ … ┆ Smoking ┆ Stress Level ┆ Sleep Hours    ┆ Physical      │\n",
       "│ ---        ┆ --- ┆ ---    ┆ ---    ┆   ┆ ---     ┆ ---          ┆ Per Day        ┆ Activity Days │\n",
       "│ str        ┆ i64 ┆ str    ┆ i64    ┆   ┆ bool    ┆ i64          ┆ ---            ┆ Per Week      │\n",
       "│            ┆     ┆        ┆        ┆   ┆         ┆              ┆ i64            ┆ ---           │\n",
       "│            ┆     ┆        ┆        ┆   ┆         ┆              ┆                ┆ i64           │\n",
       "╞════════════╪═════╪════════╪════════╪═══╪═════════╪══════════════╪════════════════╪═══════════════╡\n",
       "│ BMW7812    ┆ 67  ┆ Male   ┆ 261404 ┆ … ┆ true    ┆ 9            ┆ 6              ┆ 0             │\n",
       "│ CZE1114    ┆ 21  ┆ Male   ┆ 285768 ┆ … ┆ true    ┆ 1            ┆ 7              ┆ 1             │\n",
       "│ BNI9906    ┆ 21  ┆ Female ┆ 235282 ┆ … ┆ false   ┆ 9            ┆ 4              ┆ 4             │\n",
       "│ JLN3497    ┆ 84  ┆ Male   ┆ 125640 ┆ … ┆ true    ┆ 9            ┆ 4              ┆ 3             │\n",
       "│ …          ┆ …   ┆ …      ┆ …      ┆ … ┆ …       ┆ …            ┆ …              ┆ …             │\n",
       "│ QSV6764    ┆ 28  ┆ Female ┆ 217881 ┆ … ┆ false   ┆ 8            ┆ 9              ┆ 4             │\n",
       "│ XKA5925    ┆ 47  ┆ Male   ┆ 36998  ┆ … ┆ true    ┆ 5            ┆ 4              ┆ 4             │\n",
       "│ EPE6801    ┆ 36  ┆ Male   ┆ 209943 ┆ … ┆ true    ┆ 5            ┆ 8              ┆ 2             │\n",
       "│ ZWN9666    ┆ 25  ┆ Female ┆ 247338 ┆ … ┆ false   ┆ 8            ┆ 4              ┆ 7             │\n",
       "└────────────┴─────┴────────┴────────┴───┴─────────┴──────────────┴────────────────┴───────────────┘"
      ]
     },
     "execution_count": 68,
     "metadata": {},
     "output_type": "execute_result"
    }
   ],
   "source": [
    "heart_df"
   ]
  },
  {
   "cell_type": "code",
   "execution_count": null,
   "metadata": {},
   "outputs": [],
   "source": [
    "# Convert Polars DataFrame to Pandas DataFrame\n",
    "pd_df = df.to_pandas()\n",
    "# Convert Pandas DataFrame to SQL\n",
    "sql_table_name = ‘your_table_name’\n",
    "sql_statement = pd_df.to_sql(sql_table_name, con=‘sqlite:///:memory:’, index=False, if_exists=‘replace’)\n",
    "# Print the SQL statement\n",
    "print(sql_statement)"
   ]
  }
 ],
 "metadata": {
  "kernelspec": {
   "display_name": "dev",
   "language": "python",
   "name": "python3"
  },
  "language_info": {
   "codemirror_mode": {
    "name": "ipython",
    "version": 3
   },
   "file_extension": ".py",
   "mimetype": "text/x-python",
   "name": "python",
   "nbconvert_exporter": "python",
   "pygments_lexer": "ipython3",
   "version": "3.10.13"
  }
 },
 "nbformat": 4,
 "nbformat_minor": 2
}
